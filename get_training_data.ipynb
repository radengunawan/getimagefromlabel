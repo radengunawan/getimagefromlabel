{
 "cells": [
  {
   "cell_type": "code",
   "execution_count": 14,
   "id": "d5b797f1",
   "metadata": {},
   "outputs": [
    {
     "name": "stderr",
     "output_type": "stream",
     "text": [
      "100%|██████████████████████████████████████████████████████████████████████████████| 150/150 [00:00<00:00, 1659.31it/s]\n"
     ]
    }
   ],
   "source": [
    "import cv2\n",
    "import glob\n",
    "import numpy as np\n",
    "from tqdm import tqdm\n",
    "\n",
    "filestext = glob.glob('./data_OCR5/train/labels/*.txt')\n",
    "\n",
    "filesimg = glob.glob('./Raw_Boxes_From_Video_Spec/Mixshuff/stickers/*.jpg')\n",
    "\n",
    "\n",
    "file_text_list = [file.split('\\\\')[-1].split('.')[-2] for file in filestext]\n",
    "file_img_list = [file.split('\\\\')[-1].split('.')[-2] for file in filesimg]\n",
    "\n",
    "for file_img in tqdm(filesimg):\n",
    "    shortimg = file_img.split('\\\\')[-1].split('.')[-2]\n",
    "    if shortimg in file_text_list:\n",
    "        cv2.imwrite('./data_OCR5/valid/images/'+str(shortimg)+'.jpg',cv2.imread(file_img))"
   ]
  },
  {
   "cell_type": "code",
   "execution_count": 10,
   "id": "85b60e32",
   "metadata": {},
   "outputs": [
    {
     "name": "stdout",
     "output_type": "stream",
     "text": [
      "true\n"
     ]
    }
   ],
   "source": [
    "a = [5,8,7]\n",
    "\n",
    "if 5 in a:\n",
    "    print('true')\n",
    "else:\n",
    "    print('false')"
   ]
  },
  {
   "cell_type": "code",
   "execution_count": 7,
   "id": "76a62dfb",
   "metadata": {},
   "outputs": [
    {
     "data": {
      "text/plain": [
       "'stx_0_0'"
      ]
     },
     "execution_count": 7,
     "metadata": {},
     "output_type": "execute_result"
    }
   ],
   "source": [
    "print(file_text_list)"
   ]
  },
  {
   "cell_type": "code",
   "execution_count": 15,
   "id": "6cf3c149",
   "metadata": {},
   "outputs": [
    {
     "data": {
      "text/plain": [
       "'./Raw_Boxes_From_Video_Spec/Mixshuff/stickers\\\\stx_0_0.jpg'"
      ]
     },
     "execution_count": 15,
     "metadata": {},
     "output_type": "execute_result"
    }
   ],
   "source": [
    "filesimg = glob.glob('./Raw_Boxes_From_Video_Spec/Mixshuff/stickers/*.jpg')\n",
    "filesimg[0]"
   ]
  },
  {
   "cell_type": "code",
   "execution_count": null,
   "id": "e48d23f3",
   "metadata": {},
   "outputs": [],
   "source": []
  }
 ],
 "metadata": {
  "kernelspec": {
   "display_name": "Python 3 (ipykernel)",
   "language": "python",
   "name": "python3"
  },
  "language_info": {
   "codemirror_mode": {
    "name": "ipython",
    "version": 3
   },
   "file_extension": ".py",
   "mimetype": "text/x-python",
   "name": "python",
   "nbconvert_exporter": "python",
   "pygments_lexer": "ipython3",
   "version": "3.9.12"
  }
 },
 "nbformat": 4,
 "nbformat_minor": 5
}
